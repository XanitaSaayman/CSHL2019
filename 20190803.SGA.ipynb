{
 "cells": [
  {
   "cell_type": "code",
   "execution_count": null,
   "metadata": {
    "scrolled": true
   },
   "outputs": [],
   "source": [
    "import pandas as pd\n",
    "import matplotlib.pyplot as plt\n",
    "import numpy as np\n",
    "\n",
    "# read SGAtools data and visualize the first 20 rows\n",
    "\n",
    "data = pd.read_excel(\".xlsx\",index_col=0,sheet_name='Combined data').sort_values('Score')\n",
    "\n",
    "data.head(20)\n"
   ]
  },
  {
   "cell_type": "code",
   "execution_count": null,
   "metadata": {},
   "outputs": [],
   "source": [
    "# read SGAtools data and visualize the last 20 rows\n",
    "# note that there are 'NaN' in certain Score values - why would this be?\n",
    "\n",
    "data.tail(20)\n"
   ]
  },
  {
   "cell_type": "code",
   "execution_count": null,
   "metadata": {
    "scrolled": true
   },
   "outputs": [],
   "source": [
    "#remove all Score values for which there is a 'jackknife' assignment\n",
    "\n",
    "idx = data['Additional information'].str.contains('JK',na=False).values\n",
    "data.loc[idx,'Score']=np.nan\n",
    "\n",
    "data.head(30)"
   ]
  },
  {
   "cell_type": "code",
   "execution_count": null,
   "metadata": {
    "scrolled": true
   },
   "outputs": [],
   "source": [
    "#remove all Score values for which the p-Value is > 0.05\n",
    "#remove all Score values for which the p-Value is NaN \n",
    "\n",
    "idx = data['p-Value']>0.05\n",
    "data.loc[idx,'Score']=np.nan\n",
    "\n",
    "idx = data['p-Value'].isna()\n",
    "data.loc[idx,'Score']=np.nan\n",
    "\n",
    "data.head(30)\n"
   ]
  },
  {
   "cell_type": "code",
   "execution_count": null,
   "metadata": {},
   "outputs": [],
   "source": [
    "# visualize distribution of Score\n",
    "\n",
    "data['Score'].hist(bins=100,alpha=0.5,color='firebrick')\n",
    "plt.title(\"Distribution of S-scores\")\n",
    "plt.ylabel('Frequency')\n",
    "plt.xlabel('S-score')\n",
    "plt.show();"
   ]
  },
  {
   "cell_type": "code",
   "execution_count": null,
   "metadata": {
    "scrolled": true
   },
   "outputs": [],
   "source": [
    "# calculate z-scores based on Score mean and standard deviation\n",
    "\n",
    "data['Z-score']=(data['Score']-data['Score'].mean())/data['Score'].std(ddof=0)\n",
    "\n",
    "data.head(30)\n"
   ]
  },
  {
   "cell_type": "code",
   "execution_count": null,
   "metadata": {},
   "outputs": [],
   "source": [
    "# visualize distribution of Z-scores\n",
    "\n",
    "data['Z-score'].hist(bins=100,alpha=0.5,color='firebrick')\n",
    "plt.title(\"Distribution of Z-scores\")\n",
    "plt.ylabel('Frequency')\n",
    "plt.xlabel('S-score')\n",
    "\n",
    "plt.axvline(-2, color='black', linestyle='dashed', linewidth=1)\n",
    "plt.axvline(2, color='black', linestyle='dashed', linewidth=1)\n",
    "\n",
    "plt.show();"
   ]
  },
  {
   "cell_type": "code",
   "execution_count": null,
   "metadata": {},
   "outputs": [],
   "source": [
    "# identify positive and negative genetic interactions for genes that have a \n",
    "# z-score above and below a specified cutoff\n",
    "# print out the proportion of genes that have been classified as positive/negative interactors\n",
    "\n",
    "cutoff = 2 # specify desired z-score cutoff\n",
    "\n",
    "top_hits = data[(data['Z-score'] >= data['Z-score'].mean()+cutoff)]\n",
    "bottom_hits = data[(data['Z-score'] <= data['Z-score'].mean()-cutoff)]\n",
    "\n",
    "print(\"proportion of screen with positive interactions: \"+str(len(top_hits)/len(data)))\n",
    "print(\"proportion of screen with negative interactions: \"+str(len(bottom_hits)/len(data)))\n"
   ]
  },
  {
   "cell_type": "code",
   "execution_count": null,
   "metadata": {
    "scrolled": true
   },
   "outputs": [],
   "source": [
    "# see 30 top hits (positive genetic interactors)\n",
    "\n",
    "top_hits.sort_values(by='Z-score',ascending=False).head(30)"
   ]
  },
  {
   "cell_type": "code",
   "execution_count": null,
   "metadata": {
    "scrolled": false
   },
   "outputs": [],
   "source": [
    "# see 30 bottom hits (negative genetic interactors)\n",
    "\n",
    "bottom_hits.sort_values(by='Z-score').head(30)"
   ]
  },
  {
   "cell_type": "code",
   "execution_count": null,
   "metadata": {},
   "outputs": [],
   "source": [
    "# export the negative and positive genetic interactors with the array name and final SGA score\n",
    "\n",
    "data[['Array Name','Score','Z-score']].to_csv(\"\",index=False)\n"
   ]
  }
 ],
 "metadata": {
  "kernelspec": {
   "display_name": "Python 3",
   "language": "python",
   "name": "python3"
  },
  "language_info": {
   "codemirror_mode": {
    "name": "ipython",
    "version": 3
   },
   "file_extension": ".py",
   "mimetype": "text/x-python",
   "name": "python",
   "nbconvert_exporter": "python",
   "pygments_lexer": "ipython3",
   "version": "3.6.4"
  }
 },
 "nbformat": 4,
 "nbformat_minor": 2
}
